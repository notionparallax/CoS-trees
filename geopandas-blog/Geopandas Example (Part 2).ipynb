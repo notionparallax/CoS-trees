{
 "cells": [
  {
   "cell_type": "code",
   "execution_count": null,
   "metadata": {},
   "outputs": [],
   "source": [
    "import geopandas"
   ]
  },
  {
   "cell_type": "markdown",
   "metadata": {},
   "source": [
    "## Create some random points\n",
    "To simulate the point-based locations, let's generate some random points within Victoria.  \n",
    "  \n",
    "Let's import the dissolved Victoria shape to create these points."
   ]
  },
  {
   "cell_type": "code",
   "execution_count": null,
   "metadata": {},
   "outputs": [],
   "source": [
    "vic_shape = geopandas.read_file('./outputs/vic_shape.shp')\n",
    "ax = vic_shape.plot()"
   ]
  },
  {
   "cell_type": "markdown",
   "metadata": {},
   "source": [
    "We can then use the `convex_hull` property to get a simplified shape for processing"
   ]
  },
  {
   "cell_type": "code",
   "execution_count": null,
   "metadata": {},
   "outputs": [],
   "source": [
    "vic_hull = vic_shape.convex_hull\n",
    "ax = vic_hull.plot()"
   ]
  },
  {
   "cell_type": "markdown",
   "metadata": {},
   "source": [
    "To generate some points, we need to be able to create the points and assign them random coordinates.  \n",
    "  \n",
    "For the points, we can use shapely geometry's `Point()` constructor; and for the randomness, numpy's `random.random()` function - so let's import both of those"
   ]
  },
  {
   "cell_type": "code",
   "execution_count": null,
   "metadata": {},
   "outputs": [],
   "source": [
    "import numpy as np\n",
    "from shapely.geometry import Point"
   ]
  },
  {
   "cell_type": "markdown",
   "metadata": {},
   "source": [
    "I'm going to generate the points using the max bounds of the convex hull, which we can access using the `bounds` property. This returns a DataFrame object, with bounds values stored in its columns.  \n",
    "  \n",
    "(there is only one feature in the convex hull GeoDataFrame, so we can access the first member directly with `[0]`"
   ]
  },
  {
   "cell_type": "code",
   "execution_count": null,
   "metadata": {},
   "outputs": [],
   "source": [
    "xmin, xmax, ymin, ymax = vic_hull.bounds['minx'][0], \\\n",
    "    vic_hull.bounds['maxx'][0], \\\n",
    "    vic_hull.bounds['miny'][0], \\\n",
    "    vic_hull.bounds['maxy'][0]\n",
    "vic_hull.bounds.head()"
   ]
  },
  {
   "cell_type": "markdown",
   "metadata": {},
   "source": [
    "`random.random(2000)` returns an iterable series of 2000 random numbers, which we then multiply by the difference between the maxs and mins, and add to the min.  \n",
    "  \n",
    "We can then use the python builtin `zip()` function and some list comprehension to generate a series of 2000 random cooridnate pairs, which we can then put into a GeoDataFrame."
   ]
  },
  {
   "cell_type": "code",
   "execution_count": null,
   "metadata": {},
   "outputs": [],
   "source": [
    "xc = (xmax - xmin) * np.random.random(2000) + xmin\n",
    "yc = (ymax - ymin) * np.random.random(2000) + ymin\n",
    "\n",
    "points_geom = geopandas.GeoSeries([Point(x, y) for x, y in zip(xc, yc)])\n",
    "\n",
    "points = geopandas.GeoDataFrame(geometry=points_geom, crs=vic_shape.crs)"
   ]
  },
  {
   "cell_type": "markdown",
   "metadata": {},
   "source": [
    "The result:"
   ]
  },
  {
   "cell_type": "code",
   "execution_count": null,
   "metadata": {},
   "outputs": [],
   "source": [
    "ax = points.plot()\n",
    "points.head()"
   ]
  },
  {
   "cell_type": "markdown",
   "metadata": {},
   "source": [
    "## Clipping and Joining\n",
    "Now that we have our random points, I want to both trim them to those that fall within our Victorian postcodes, and assign them a postcode.  \n",
    "  \n",
    "So let's get our postcodes data that we saved earlier."
   ]
  },
  {
   "cell_type": "code",
   "execution_count": null,
   "metadata": {},
   "outputs": [],
   "source": [
    "vic_poas = geopandas.read_file('./outputs/vic_poas_plus.shp', crs=vic_shape.crs)\n",
    "ax = vic_poas.plot()\n",
    "vic_poas.head()"
   ]
  },
  {
   "cell_type": "markdown",
   "metadata": {},
   "source": [
    "Then we can actually do the clip and join in a single step, using once again the GeoPandas excellent spatial join function `sjoin()`, and the GeoDataFrame `query()` method.  \n",
    "  \n",
    "We can perform the join directly (the overlay method defaults to `intersection`), and then filter in one line of code using `query('index_right >= 0')`, such that we only keep records that were successfully joined.  \n",
    "  \n",
    "> (Note that rows wihtout joins have a value of `NaN`, so anything with a value >= 0 will clip out any unjoined points)"
   ]
  },
  {
   "cell_type": "code",
   "execution_count": null,
   "metadata": {},
   "outputs": [],
   "source": [
    "vic_points = geopandas.sjoin(points, vic_poas, how='left').query('index_right >= 0')\n",
    "ax = vic_points.plot()\n",
    "vic_points.head()"
   ]
  },
  {
   "cell_type": "markdown",
   "metadata": {},
   "source": [
    "Our GeoDataFrame has some extra data that we don't need, so let's trim those columns off using the `drop()` method."
   ]
  },
  {
   "cell_type": "code",
   "execution_count": null,
   "metadata": {},
   "outputs": [],
   "source": [
    "vic_points = vic_points.drop(['index_right','index_righ','code'], axis=1)\n",
    "vic_points.head()"
   ]
  },
  {
   "cell_type": "markdown",
   "metadata": {},
   "source": [
    "## Creating bounding boxes\n",
    "The last step is to create some bounding boxes for the postcodes. We can do this too in one line of code using the `envelope` property, then plot it (with some colour customisation this time)"
   ]
  },
  {
   "cell_type": "code",
   "execution_count": null,
   "metadata": {},
   "outputs": [],
   "source": [
    "ax = vic_poas.envelope.plot(edgecolor='red', facecolor='none')"
   ]
  },
  {
   "cell_type": "markdown",
   "metadata": {},
   "source": [
    "However, these bounding boxes are square - I'd rather have them rotated to represent the orientation of underlying polygon better.  \n",
    "  \n",
    "For this we can use the shapely property `minimum_rotated_rectangle`. This property isn't available (yet?) on a GeoDataFrame or GeoSeries object, but the geometries in our GeoDataFrame are stored as shapely geometries, so we can still access them by going to the geometries directly."
   ]
  },
  {
   "cell_type": "code",
   "execution_count": null,
   "metadata": {},
   "outputs": [],
   "source": [
    "print(type(vic_poas['geometry'][89]))\n",
    "vic_poas['geometry'][89]"
   ]
  },
  {
   "cell_type": "code",
   "execution_count": null,
   "metadata": {},
   "outputs": [],
   "source": [
    "vic_poas['geometry'][89].minimum_rotated_rectangle"
   ]
  },
  {
   "cell_type": "markdown",
   "metadata": {},
   "source": [
    "To get the `minimum_rotated_rectangle` for each postcode area, we can iterate over the rows in the GeoDataFrame by using the `iterrows()` method, and using list comprehension, build a GeoSeries with geometries populated from the `minimum_rotated_rectangle` property."
   ]
  },
  {
   "cell_type": "code",
   "execution_count": null,
   "metadata": {},
   "outputs": [],
   "source": [
    "box_calcs = geopandas.GeoSeries([ item['geometry'].minimum_rotated_rectangle for idx, item in vic_poas.iterrows() ])\n",
    "\n",
    "boxes = geopandas.GeoDataFrame(geometry=box_calcs)\n",
    "\n",
    "ax = boxes.plot(edgecolor='red', facecolor='none')"
   ]
  },
  {
   "cell_type": "markdown",
   "metadata": {},
   "source": [
    "Finally, let's rejoin the postcode column to our newly generated boxes. We can just slap the column directly onto the end using `boxes['postcode'] = vic_poas['POA_NAME']` because the boxes were generated directly from the same data and won't lose their order"
   ]
  },
  {
   "cell_type": "code",
   "execution_count": null,
   "metadata": {},
   "outputs": [],
   "source": [
    "boxes['postcode'] = vic_poas['POA_NAME']\n",
    "boxes.head()"
   ]
  },
  {
   "cell_type": "markdown",
   "metadata": {},
   "source": [
    "Now we have both our rotated bounding boxes and random points with postcodes, let's plot them together:"
   ]
  },
  {
   "cell_type": "code",
   "execution_count": null,
   "metadata": {},
   "outputs": [],
   "source": [
    "final_plot = boxes.plot(edgecolor='red', facecolor='none')\n",
    "vic_points.plot(ax=final_plot, marker='.', color='green')"
   ]
  },
  {
   "cell_type": "markdown",
   "metadata": {},
   "source": [
    "And that's it!"
   ]
  }
 ],
 "metadata": {
  "kernelspec": {
   "display_name": "Python 3",
   "language": "python",
   "name": "python3"
  },
  "language_info": {
   "codemirror_mode": {
    "name": "ipython",
    "version": 3
   },
   "file_extension": ".py",
   "mimetype": "text/x-python",
   "name": "python",
   "nbconvert_exporter": "python",
   "pygments_lexer": "ipython3",
   "version": "3.7.1"
  }
 },
 "nbformat": 4,
 "nbformat_minor": 2
}
