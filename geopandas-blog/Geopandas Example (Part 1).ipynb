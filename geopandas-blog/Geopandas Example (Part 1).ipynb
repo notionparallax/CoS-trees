{
 "cells": [
  {
   "cell_type": "code",
   "execution_count": null,
   "metadata": {},
   "outputs": [],
   "source": [
    "import geopandas"
   ]
  },
  {
   "cell_type": "markdown",
   "metadata": {},
   "source": [
    "## Create data frame from shapefile\n",
    "Let's make a GeoDataFrame from our postcode dataset. We can do this directly using the `read_file()` geopandas method.  \n",
    "  \n",
    "The `read_file()` method references the Fiona library's import functions, and can read from any OGR vector source."
   ]
  },
  {
   "cell_type": "code",
   "execution_count": null,
   "metadata": {},
   "outputs": [],
   "source": [
    "aus_poas = geopandas.read_file('aus_poas.shp')"
   ]
  },
  {
   "cell_type": "markdown",
   "metadata": {},
   "source": [
    "This is what our dataframe looks like - it's a table, but with a fully typed spatial geometry column.  \n",
    "  \n",
    "The pandas `head()` method returns the first 5 rows with our attributes - POA_NAME, code, state and geometry"
   ]
  },
  {
   "cell_type": "code",
   "execution_count": null,
   "metadata": {},
   "outputs": [],
   "source": [
    "aus_poas.head()"
   ]
  },
  {
   "cell_type": "markdown",
   "metadata": {},
   "source": [
    "## Plot our data  \n",
    "Basic plotting is fully implemented on our dataframe via MatPlotLib, and we can get a quick and dirty preview of our data using the `plot()` method on the dataframe"
   ]
  },
  {
   "cell_type": "code",
   "execution_count": null,
   "metadata": {},
   "outputs": [],
   "source": [
    "ax = aus_poas.plot()"
   ]
  },
  {
   "cell_type": "markdown",
   "metadata": {},
   "source": [
    "## Pandas Methods  \n",
    "All the common methods for a Pandas dataframe are supported on our GeoPandas dataframe.  \n",
    "  \n",
    "We can use the `query()` method to select features. For example, this `query()` returns the Melbourne postcode"
   ]
  },
  {
   "cell_type": "code",
   "execution_count": null,
   "metadata": {},
   "outputs": [],
   "source": [
    "melb = aus_poas.query('code == 3000')\n",
    "ax = melb.plot()\n",
    "melb.head()"
   ]
  },
  {
   "cell_type": "markdown",
   "metadata": {},
   "source": [
    "Let's select all the Victorian postcodes"
   ]
  },
  {
   "cell_type": "code",
   "execution_count": null,
   "metadata": {},
   "outputs": [],
   "source": [
    "vic_poas = aus_poas.query('code >= 3000 & code <= 3999')\n",
    "ax = vic_poas.plot()\n",
    "vic_poas.head()"
   ]
  },
  {
   "cell_type": "markdown",
   "metadata": {},
   "source": [
    "## Performing Dataframe Operations\n",
    "There are a bunch of useful methods available right on our GeoDataframe, such as `dissolve()`.  \n",
    "  \n",
    "Let's create a shape of Victoria using `dissolve()`, based on the Victoria postcode polygons."
   ]
  },
  {
   "cell_type": "code",
   "execution_count": null,
   "metadata": {},
   "outputs": [],
   "source": [
    "vic_shape = vic_poas.dissolve(by='state')\n",
    "ax = vic_shape.plot()\n",
    "vic_shape.head()"
   ]
  },
  {
   "cell_type": "markdown",
   "metadata": {},
   "source": [
    "> note that this has made the 'state' column the index column, on the far left."
   ]
  },
  {
   "cell_type": "markdown",
   "metadata": {},
   "source": [
    "## Projecting & Buffering\n",
    "Now that we have our Victoria polygon, we want to buffer around it to get adjoining postcodes from the full set.  \n",
    "  \n",
    "The vic_shape layer is in GDA94, so let's re-project it to GA Lambert EPSG:3112 so we can calculate in metres. We can do this super quickly and easily using the `to_crs()` method."
   ]
  },
  {
   "cell_type": "code",
   "execution_count": null,
   "metadata": {},
   "outputs": [],
   "source": [
    "vic_shape_lamb = vic_shape.to_crs(epsg=3112)\n",
    "ax = vic_shape_lamb.plot()"
   ]
  },
  {
   "cell_type": "markdown",
   "metadata": {},
   "source": [
    "Now we can buffer in metres, using the `buffer()` method.  \n",
    "  \n",
    "The `buffer()` method returns a GeoSeries (a single feature geometry), but we want to keep using our data in a GeoDataFrame, so we need to create a new data frame and then add the resulting buffer GeoSeries.  \n",
    "  \n",
    "We create a new empty GeoDataFrame using `geopandas.GeoDataFrame()` with the CRS we defined earlier on the vic_shape object (which we can reference directly with the `.crs` property)"
   ]
  },
  {
   "cell_type": "code",
   "execution_count": null,
   "metadata": {},
   "outputs": [],
   "source": [
    "vic_buffer = geopandas.GeoDataFrame(crs=vic_shape_lamb.crs)"
   ]
  },
  {
   "cell_type": "markdown",
   "metadata": {},
   "source": [
    "Then we can perform the 10km buffer operation with `buffer(10000)`, and store it in the 'geometry' column on the GeoDataFrame we just created."
   ]
  },
  {
   "cell_type": "code",
   "execution_count": null,
   "metadata": {},
   "outputs": [],
   "source": [
    "vic_buffer['geometry'] = vic_shape_lamb.buffer(10000)\n",
    "ax = vic_buffer.plot()"
   ]
  },
  {
   "cell_type": "markdown",
   "metadata": {},
   "source": [
    "Let's re-project our buffer to get it back to the original CRS, ready to for joining with our full postcode dataset"
   ]
  },
  {
   "cell_type": "code",
   "execution_count": null,
   "metadata": {},
   "outputs": [],
   "source": [
    "vic_buffer_gda = vic_buffer.to_crs(aus_poas.crs)\n",
    "ax = vic_buffer_gda.plot()"
   ]
  },
  {
   "cell_type": "markdown",
   "metadata": {},
   "source": [
    "## Do a Spatial Join to Select All Postcodes Inside Victoria and Within 10kms\n",
    "We can use the 'spatial join' or `sjoin()` method (accessible via the geopandas class) to do an intersect analysis, then query out the features that satisfy the intersect relationship.  \n",
    "  \n",
    "Performing `sjoin()` with the `how` parameter set to 'left' keeps all rows from the full set of postcodes, but we can filter them down to just those that intersect by querying the 'index_right' column, which is added as part of the join with the index of the joined feature (in this case our Vic buffer has an index_right id of 'VIC', as noted above)"
   ]
  },
  {
   "cell_type": "code",
   "execution_count": null,
   "metadata": {},
   "outputs": [],
   "source": [
    "vic_plus = geopandas.sjoin(aus_poas, vic_buffer_gda, how='left', op='intersects').query('index_right == \"VIC\"')\n",
    "ax = vic_plus.plot()\n",
    "vic_plus.head()"
   ]
  },
  {
   "cell_type": "markdown",
   "metadata": {},
   "source": [
    "The result is all of the postcodes in Victoria, and the postcodes in the other states which come within 10kms of the border"
   ]
  },
  {
   "cell_type": "markdown",
   "metadata": {},
   "source": [
    "## Exporting Our Data\n",
    "Finally, let's save our data for use in part two of the processing. We can use the `to_file()` method directly from the GeoDataFrame to save in our workspace."
   ]
  },
  {
   "cell_type": "code",
   "execution_count": null,
   "metadata": {},
   "outputs": [],
   "source": [
    "vic_plus.to_file('./outputs/vic_poas_plus.shp', driver='ESRI Shapefile')"
   ]
  },
  {
   "cell_type": "markdown",
   "metadata": {},
   "source": [
    "Let's quickly check our output file..."
   ]
  },
  {
   "cell_type": "code",
   "execution_count": null,
   "metadata": {},
   "outputs": [],
   "source": [
    "ax = geopandas.read_file('./outputs/vic_poas_plus.shp').plot()"
   ]
  },
  {
   "cell_type": "markdown",
   "metadata": {},
   "source": [
    "> I'm also going to save out our dissolved Victoria shape for later"
   ]
  },
  {
   "cell_type": "code",
   "execution_count": null,
   "metadata": {},
   "outputs": [],
   "source": [
    "vic_shape.to_file('./outputs/vic_shape.shp', driver='ESRI Shapefile')"
   ]
  },
  {
   "cell_type": "markdown",
   "metadata": {},
   "source": [
    "This ends part 1, in part two let's create some random points, join the postcode attributes to them, and create some minimum bounding boxes."
   ]
  }
 ],
 "metadata": {
  "kernelspec": {
   "display_name": "Python 3",
   "language": "python",
   "name": "python3"
  },
  "language_info": {
   "codemirror_mode": {
    "name": "ipython",
    "version": 3
   },
   "file_extension": ".py",
   "mimetype": "text/x-python",
   "name": "python",
   "nbconvert_exporter": "python",
   "pygments_lexer": "ipython3",
   "version": "3.7.1"
  }
 },
 "nbformat": 4,
 "nbformat_minor": 2
}
